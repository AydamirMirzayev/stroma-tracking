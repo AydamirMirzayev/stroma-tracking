{
 "cells": [
  {
   "cell_type": "code",
   "execution_count": 2,
   "id": "a910a71f",
   "metadata": {},
   "outputs": [],
   "source": [
    "import cv2\n",
    "import matplotlib.pyplot as plt\n",
    "import numpy as np "
   ]
  },
  {
   "cell_type": "markdown",
   "id": "9f7e4b44",
   "metadata": {},
   "source": [
    "### Verify true fps match"
   ]
  },
  {
   "cell_type": "code",
   "execution_count": 15,
   "id": "358042e1",
   "metadata": {},
   "outputs": [
    {
     "name": "stdout",
     "output_type": "stream",
     "text": [
      "train fps: 30.0\n",
      "test fps: 30.0\n",
      "val fps: 30.0\n"
     ]
    },
    {
     "data": {
      "text/plain": [
       "<function VideoCapture.release>"
      ]
     },
     "execution_count": 15,
     "metadata": {},
     "output_type": "execute_result"
    }
   ],
   "source": [
    "# Load videos verify fps match \n",
    "cap_train = cv2.VideoCapture('./data/images/train/train.mp4')\n",
    "cap_test = cv2.VideoCapture('./data/images/test/test.mp4')\n",
    "cap_val = cv2.VideoCapture('./data/images/val/val.mp4')\n",
    "\n",
    "print(f\"train fps: {cap_train.get(cv2.CAP_PROP_FPS)}\")\n",
    "print(f\"test fps: {cap_test.get(cv2.CAP_PROP_FPS)}\")\n",
    "print(f\"val fps: {cap_val.get(cv2.CAP_PROP_FPS)}\")\n",
    "\n",
    "cap_train.release"
   ]
  },
  {
   "cell_type": "code",
   "execution_count": 14,
   "id": "6732c77c",
   "metadata": {},
   "outputs": [],
   "source": [
    "RES_H = 640\n",
    "RES_W = 640 \n",
    "FPS = 30 "
   ]
  },
  {
   "cell_type": "code",
   "execution_count": null,
   "id": "5151c80d",
   "metadata": {},
   "outputs": [],
   "source": []
  }
 ],
 "metadata": {
  "kernelspec": {
   "display_name": "Python 3 (ipykernel)",
   "language": "python",
   "name": "python3"
  },
  "language_info": {
   "codemirror_mode": {
    "name": "ipython",
    "version": 3
   },
   "file_extension": ".py",
   "mimetype": "text/x-python",
   "name": "python",
   "nbconvert_exporter": "python",
   "pygments_lexer": "ipython3",
   "version": "3.9.7"
  }
 },
 "nbformat": 4,
 "nbformat_minor": 5
}
