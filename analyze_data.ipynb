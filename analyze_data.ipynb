{
 "cells": [
  {
   "cell_type": "code",
   "execution_count": 18,
   "id": "9904be42",
   "metadata": {},
   "outputs": [],
   "source": [
    "import cv2\n",
    "import matplotlib.pyplot as plt\n",
    "import numpy as np \n",
    "import json"
   ]
  },
  {
   "cell_type": "markdown",
   "id": "eb4395e3",
   "metadata": {},
   "source": [
    "# Extract data infromation that can help us decide how to design the model and preprocess the data"
   ]
  },
  {
   "cell_type": "markdown",
   "id": "ae41317a",
   "metadata": {},
   "source": [
    "## Verify true fps match"
   ]
  },
  {
   "cell_type": "code",
   "execution_count": 17,
   "id": "a1279f04",
   "metadata": {},
   "outputs": [
    {
     "name": "stdout",
     "output_type": "stream",
     "text": [
      "train fps: 30.0\n",
      "test fps: 30.0\n",
      "val fps: 30.0\n"
     ]
    }
   ],
   "source": [
    "# Load videos verify fps match \n",
    "cap_train = cv2.VideoCapture('./data/images/train/train.mp4')\n",
    "cap_test = cv2.VideoCapture('./data/images/test/test.mp4')\n",
    "cap_val = cv2.VideoCapture('./data/images/val/val.mp4')\n",
    "\n",
    "print(f\"train fps: {cap_train.get(cv2.CAP_PROP_FPS)}\")\n",
    "print(f\"test fps: {cap_test.get(cv2.CAP_PROP_FPS)}\")\n",
    "print(f\"val fps: {cap_val.get(cv2.CAP_PROP_FPS)}\")\n",
    "\n",
    "cap_train.release()\n",
    "cap_test.release()\n",
    "cap_val.release()"
   ]
  },
  {
   "cell_type": "code",
   "execution_count": 14,
   "id": "4ac96e4a",
   "metadata": {},
   "outputs": [],
   "source": [
    "RES_H = 640\n",
    "RES_W = 640 \n",
    "FPS = 30 "
   ]
  },
  {
   "cell_type": "markdown",
   "id": "f9d82ce2",
   "metadata": {},
   "source": [
    "## Check annotations, instances, occurences, count (ground truth statistics)"
   ]
  },
  {
   "cell_type": "markdown",
   "id": "80c09a2b",
   "metadata": {},
   "source": [
    "### Define helper functions"
   ]
  },
  {
   "cell_type": "code",
   "execution_count": 96,
   "id": "7c42bba8",
   "metadata": {},
   "outputs": [],
   "source": [
    "# Extract necessary data from json\n",
    "def load_json_data(path):\n",
    "    file = open('./data/annotations/instances_train.json')\n",
    "    data = json.load(file)\n",
    "    file.close()\n",
    "    return data"
   ]
  },
  {
   "cell_type": "code",
   "execution_count": 97,
   "id": "639aeb70",
   "metadata": {},
   "outputs": [],
   "source": [
    "ID_BOLT = 1\n",
    "ID_NUT = 2"
   ]
  },
  {
   "cell_type": "code",
   "execution_count": 98,
   "id": "900edab7",
   "metadata": {},
   "outputs": [],
   "source": [
    "# 1 - bolt, 2 - nut \n",
    "train_data = load_json_data('./data/annotations/instances_train.json')\n",
    "train_annotations = train_data['annotations']"
   ]
  },
  {
   "cell_type": "code",
   "execution_count": 128,
   "id": "58a1c377",
   "metadata": {},
   "outputs": [],
   "source": [
    "# Frames with bolt instance (repetition allowed)\n",
    "frames_with_bolt = [instance['image_id'] for instance in train_annotations if instance['category_id'] == ID_BOLT]\n",
    "# Frames with nut instance (repetition allowed)\n",
    "frames_with_nut = [instance['image_id'] for instance in train_annotations if instance['category_id'] == ID_NUT]\n",
    "# Frames with nut both (repetition allowed)\n",
    "frames_with_both = np.intersect1d(frames_with_bolt, frames_with_nut, assume_unique=False)\n",
    "\n",
    "\n",
    "frames_with_bolt, frames_with_bolt_count = np.unique(frames_with_bolt, return_counts=True)\n",
    "frames_with_nut, frames_with_nut_count = np.unique(frames_with_nut, return_counts=True)"
   ]
  },
  {
   "cell_type": "markdown",
   "id": "c390682d",
   "metadata": {},
   "source": [
    "### Percentage of videos with Bolts"
   ]
  },
  {
   "cell_type": "code",
   "execution_count": 126,
   "id": "dafc8c4c",
   "metadata": {},
   "outputs": [
    {
     "name": "stdout",
     "output_type": "stream",
     "text": [
      "Percentage of frames with bolts: 92%\n",
      "Bolts per true frame: 2.23 \n",
      "\n",
      "Percentage of frames with nuts: 50%\n",
      "Nuts per true frame: 1.00 \n",
      "\n",
      "Percentage of frames with both: 47%\n"
     ]
    }
   ],
   "source": [
    "# True frame - frame containint the object of interest\n",
    "print(f'Percentage of frames with bolts: {round(len(frames_with_bolt)/72)}%')\n",
    "print(\"Bolts per true frame: {:.2f} \\n\".format(np.mean(frames_with_bolt_count)))\n",
    "\n",
    "print(f'Percentage of frames with nuts: {round(len(frames_with_nut)/72)}%')\n",
    "print(\"Nuts per true frame: {:.2f} \\n\".format(np.mean(frames_with_nut_count)))\n",
    "\n",
    "print(f'Percentage of frames with both: {round(len(frames_with_both)/72)}%')"
   ]
  },
  {
   "cell_type": "code",
   "execution_count": null,
   "id": "67a65e5b",
   "metadata": {},
   "outputs": [],
   "source": []
  }
 ],
 "metadata": {
  "kernelspec": {
   "display_name": "Python 3 (ipykernel)",
   "language": "python",
   "name": "python3"
  },
  "language_info": {
   "codemirror_mode": {
    "name": "ipython",
    "version": 3
   },
   "file_extension": ".py",
   "mimetype": "text/x-python",
   "name": "python",
   "nbconvert_exporter": "python",
   "pygments_lexer": "ipython3",
   "version": "3.9.7"
  }
 },
 "nbformat": 4,
 "nbformat_minor": 5
}
