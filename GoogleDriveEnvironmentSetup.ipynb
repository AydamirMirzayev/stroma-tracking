{
  "nbformat": 4,
  "nbformat_minor": 0,
  "metadata": {
    "colab": {
      "provenance": [],
      "include_colab_link": true
    },
    "kernelspec": {
      "name": "python3",
      "display_name": "Python 3"
    },
    "language_info": {
      "name": "python"
    }
  },
  "cells": [
    {
      "cell_type": "markdown",
      "metadata": {
        "id": "view-in-github",
        "colab_type": "text"
      },
      "source": [
        "<a href=\"https://colab.research.google.com/github/AydamirMirzayev/stroma-tracking/blob/master/GoogleDriveEnvironmentSetup.ipynb\" target=\"_parent\"><img src=\"https://colab.research.google.com/assets/colab-badge.svg\" alt=\"Open In Colab\"/></a>"
      ]
    },
    {
      "cell_type": "markdown",
      "source": [
        "# This notebook"
      ],
      "metadata": {
        "id": "IMZ3_RorPX6x"
      }
    },
    {
      "cell_type": "markdown",
      "source": [
        "### This notebook serves the purpose of easier-than-local environment setup for running inferences on the designed model. The parent function of predict_on_video.py takes as an input a test video and outputs a video with tracked objects."
      ],
      "metadata": {
        "id": "SIPeV8mGPbT-"
      }
    },
    {
      "cell_type": "markdown",
      "source": [
        "## Mount to the google drive"
      ],
      "metadata": {
        "id": "vOE2YcV5NjIZ"
      }
    },
    {
      "cell_type": "code",
      "execution_count": null,
      "metadata": {
        "id": "9mRnDIC2JtW-"
      },
      "outputs": [],
      "source": [
        "from google.colab import drive\n",
        "drive.mount('/content/gdrive')"
      ]
    },
    {
      "cell_type": "markdown",
      "source": [
        "## Set out a project folder for the application and navigate to it"
      ],
      "metadata": {
        "id": "FxSd_INnNq1b"
      }
    },
    {
      "cell_type": "code",
      "source": [
        "%cd <your project directory>"
      ],
      "metadata": {
        "id": "Syia6behKu5J"
      },
      "execution_count": null,
      "outputs": []
    },
    {
      "cell_type": "markdown",
      "source": [
        "## Download the public project repository that contains the weights of the trained YOLO7 model"
      ],
      "metadata": {
        "id": "ioAH5DPRNx0u"
      }
    },
    {
      "cell_type": "code",
      "source": [
        "# Download the main repository that contains the weights of the trained model\n",
        "git clone https://github.com/AydamirMirzayev/stroma-tracking.git\n",
        "%cd stroma-tracking"
      ],
      "metadata": {
        "id": "a8FGX3juKhj6"
      },
      "execution_count": null,
      "outputs": []
    },
    {
      "cell_type": "markdown",
      "source": [
        "## Also clone the yolo7 repository while inside *stroma-tracking*\n",
        "\n"
      ],
      "metadata": {
        "id": "PFsPscXLOCoR"
      }
    },
    {
      "cell_type": "code",
      "source": [
        "# Clone YOLO repository\n",
        "!git clone https://github.com/WongKinYiu/yolov7\n",
        "%cd yolov7\n",
        "!pip install -r requirements.txt\n",
        "%cd .. # Return to the main project directory"
      ],
      "metadata": {
        "id": "J1WKpUaEKrcq"
      },
      "execution_count": null,
      "outputs": []
    }
  ]
}