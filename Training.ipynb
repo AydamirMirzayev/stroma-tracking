{
 "cells": [
  {
   "cell_type": "markdown",
   "id": "d13d006f",
   "metadata": {},
   "source": [
    "# This notebook is created for on-Google training of the method\n",
    "\n",
    "It is assumed that the environment is properly set up on the device"
   ]
  },
  {
   "cell_type": "markdown",
   "id": "aaee8359",
   "metadata": {},
   "source": [
    "### Download the training point"
   ]
  },
  {
   "cell_type": "code",
   "execution_count": null,
   "id": "aea45691",
   "metadata": {},
   "outputs": [],
   "source": [
    "# download COCO starting checkpoint\n",
    "!wget https://github.com/WongKinYiu/yolov7/releases/download/v0.1/yolov7_training.pt"
   ]
  },
  {
   "cell_type": "code",
   "execution_count": null,
   "id": "9d8aa833",
   "metadata": {},
   "outputs": [],
   "source": [
    "# run this cell to begin training\n",
    "%pwd\n",
    "EPOCHS = 10\n",
    "BATCH = 16\n",
    "\n",
    "!python train.py --batch BATCH --epochs EPOCHS --data <path to YOLO annotated training data> --weights 'yolov7_training.pt' --device 0 "
   ]
  }
 ],
 "metadata": {
  "kernelspec": {
   "display_name": "Python 3 (ipykernel)",
   "language": "python",
   "name": "python3"
  },
  "language_info": {
   "codemirror_mode": {
    "name": "ipython",
    "version": 3
   },
   "file_extension": ".py",
   "mimetype": "text/x-python",
   "name": "python",
   "nbconvert_exporter": "python",
   "pygments_lexer": "ipython3",
   "version": "3.9.7"
  }
 },
 "nbformat": 4,
 "nbformat_minor": 5
}
