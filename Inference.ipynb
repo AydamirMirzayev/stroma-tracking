{
 "cells": [
  {
   "cell_type": "markdown",
   "id": "3a574f3f",
   "metadata": {},
   "source": [
    "## To ensure modularity and reusability the main task of prediction is delegated to predict_on_video.py which can function without this Notebook on a local environment. This notebook serves environment\n",
    "\n",
    "  * The code will read the input test video\n",
    "  * Separate it by frames \n",
    "  * Run prediction model on each individual frame\n",
    "  * Aggreate the final predictions on resulting video"
   ]
  },
  {
   "cell_type": "code",
   "execution_count": null,
   "id": "218a5da2",
   "metadata": {},
   "outputs": [],
   "source": [
    "from google.colab import drive\n",
    "drive.mount('/content/gdrive')"
   ]
  },
  {
   "cell_type": "code",
   "execution_count": null,
   "id": "f967357e",
   "metadata": {},
   "outputs": [],
   "source": [
    "# Change the <path to test video> to your parent folder\n",
    "!python <your_path>/stroma-tracking/predict_on_video.py <path to test video>"
   ]
  }
 ],
 "metadata": {
  "kernelspec": {
   "display_name": "Python 3 (ipykernel)",
   "language": "python",
   "name": "python3"
  },
  "language_info": {
   "codemirror_mode": {
    "name": "ipython",
    "version": 3
   },
   "file_extension": ".py",
   "mimetype": "text/x-python",
   "name": "python",
   "nbconvert_exporter": "python",
   "pygments_lexer": "ipython3",
   "version": "3.9.7"
  }
 },
 "nbformat": 4,
 "nbformat_minor": 5
}
